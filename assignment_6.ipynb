{
 "cells": [
  {
   "cell_type": "code",
   "execution_count": null,
   "metadata": {},
   "outputs": [],
   "source": [
    "#Q1: What is OOPL ?\n",
    "\n",
    "\"\"\" An object-oriented programming language is a high-level programming language based on the object-oriented model.\n",
    "To perform object-oriented programming, one needs an object-oriented programming language.\n",
    "OOP refers to a type of computer programming in which programmers define the data type of a data structure,\n",
    "and also the types of operations (functions) that can be applied to the data structure.\n"
   ]
  },
  {
   "cell_type": "code",
   "execution_count": null,
   "metadata": {},
   "outputs": [],
   "source": [
    "#Q2: What are the benefits of OOP ?\n",
    "\n",
    "\"\"\" OOP enables programmers to create modules that do not need to be changed when a new type of object is added.\n",
    "A programmer can simply create a new object that inherits many of its features from existing objects.\n",
    "This makes object-oriented programs easier to modify."
   ]
  },
  {
   "cell_type": "code",
   "execution_count": null,
   "metadata": {},
   "outputs": [],
   "source": [
    "#Q3: Difference between funtion and method \n",
    "\n",
    "\"\"\" Method:\n",
    "\n",
    "1. Method is called by its name, but it is associated to an object (dependent).\n",
    "2. A method is implicitly passed the object on which it is invoked.\n",
    "3. It may or may not return any data.\n",
    "4. A method can operate on the data (instance variables) that is contained by the corresponding class.\n",
    "\n",
    "Function:\n",
    "\n",
    "1. Function is block of code that is also called by its name. (independent)\n",
    "2. The function can have different parameters or may not have any at all.\n",
    "   If any data (parameters) are passed, they are passed explicitly.\n",
    "3. It may or may not return any data.\n",
    "4. Function does not deal with Class and its instance concept."
   ]
  },
  {
   "cell_type": "code",
   "execution_count": null,
   "metadata": {},
   "outputs": [],
   "source": [
    "#Q4: Define folloowing terms\n",
    "\n",
    "#1. Class: \n",
    " \"\"\"The class defines all the common properties of the different objects that belong to it. \"\"\"\n",
    "\n",
    "#2. Object:\n",
    " \"\"\"A self-contained entity that consists of both data and procedures to manipulate the data.\"\"\"\n",
    "\n",
    "#3. Attribute: \n",
    " \"\"\"It is a specification that defines a property of an object, element, or file. It may also refer to or set the specific value for a given instance\"\"\"\n",
    "\n",
    "#4. Behaviour: \n",
    " \"\"\"Objects in Python are generally classified according to their behaviors and the features that they implement.\"\"\""
   ]
  },
  {
   "cell_type": "code",
   "execution_count": 20,
   "metadata": {},
   "outputs": [
    {
     "name": "stdout",
     "output_type": "stream",
     "text": [
      "2019\n",
      "swift\n",
      "white\n",
      "4\n",
      "1330cc\n"
     ]
    }
   ],
   "source": [
    "#Q5: Python Code.\n",
    "\n",
    "class Car:\n",
    "    def __init__ (self,model,name,color,seating,horse):\n",
    "        self.name = name\n",
    "        self.model = model\n",
    "        self.color = color\n",
    "        self.seating = seating\n",
    "        self.hp = horse\n",
    "        \n",
    "    def start(self):\n",
    "                  pass\n",
    "    def halt(self):\n",
    "                  pass\n",
    "    def drift(self):\n",
    "                  pass\n",
    "    def speedup(self):\n",
    "                  pass\n",
    "    def turn(self):\n",
    "                  pass\n",
    "        \n",
    "car = Car(\"swift\",\"2019\",\"white\",\"4\",\"1330cc\")\n",
    "\n",
    "print(car.name)\n",
    "print(car.model)\n",
    "print(car.color)\n",
    "print(car.seating)\n",
    "print(car.hp)\n"
   ]
  },
  {
   "cell_type": "code",
   "execution_count": null,
   "metadata": {},
   "outputs": [],
   "source": []
  }
 ],
 "metadata": {
  "kernelspec": {
   "display_name": "Python 3",
   "language": "python",
   "name": "python3"
  },
  "language_info": {
   "codemirror_mode": {
    "name": "ipython",
    "version": 3
   },
   "file_extension": ".py",
   "mimetype": "text/x-python",
   "name": "python",
   "nbconvert_exporter": "python",
   "pygments_lexer": "ipython3",
   "version": "3.7.4"
  }
 },
 "nbformat": 4,
 "nbformat_minor": 2
}
