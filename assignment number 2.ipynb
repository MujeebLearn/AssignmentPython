{
 "cells": [
  {
   "cell_type": "code",
   "execution_count": 13,
   "metadata": {},
   "outputs": [
    {
     "name": "stdout",
     "output_type": "stream",
     "text": [
      "******* MARKSHEET GRADING MACHINCE *******\n",
      "\n",
      "Enter Mathematics marks: 46\n",
      "Enter English marks: 86\n",
      "Enter Urdu marks: 54\n",
      "Enter Computer marks: 78\n",
      "Enter Physics marks: 95\n",
      "\n",
      "Your Percentage is:  71.8\n",
      "Grade: A\n"
     ]
    }
   ],
   "source": [
    "print (\"******* MARKSHEET GRADING MACHINCE *******\\n\")\n",
    "math = float(input (\"Enter Mathematics marks: \"))\n",
    "eng = float(input (\"Enter English marks: \"))\n",
    "urdu = float(input (\"Enter Urdu marks: \"))\n",
    "comp = float(input (\"Enter Computer marks: \"))\n",
    "phy = float(input (\"Enter Physics marks: \"))\n",
    "\n",
    "add = math+eng+urdu+comp+phy \n",
    "percent = (add/500)*100\n",
    "print (\"\\nYour Percentage is: \",percent)\n",
    "\n",
    "if percent>= 80:\n",
    "    print(\"Grade: A+\")\n",
    "elif percent>=70 and percent<80:\n",
    "    print (\"Grade: A\")\n",
    "elif percent>=60 and percent<70:\n",
    "    print (\"Grade: B\")\n",
    "elif percent>=50 and percent<60:\n",
    "    print (\"Grade: C\")\n",
    "elif percent>=45 and percent<45:\n",
    "    print (\"Grade: D\")\n",
    "else :\n",
    "    print (\"Fail\")"
   ]
  },
  {
   "cell_type": "code",
   "execution_count": 2,
   "metadata": {},
   "outputs": [
    {
     "name": "stdout",
     "output_type": "stream",
     "text": [
      "****** Machine to Find wether the number is odd or even ******\n",
      "\n",
      "Enter the number: hello\n",
      "Type numbers only\n",
      "Enter the number: 8457945\n",
      "Number is odd\n"
     ]
    }
   ],
   "source": [
    "print (\"****** Machine to Find wether the number is odd or even ******\\n\")\n",
    "\n",
    "while True:\n",
    "    try:\n",
    "       num = int(input(\"Enter the number: \"))\n",
    "       break\n",
    "    except:\n",
    "        print (\"Type numbers only\")\n",
    "\n",
    "even = num%2\n",
    "if even==0:\n",
    "    print (\"Number is Even\")\n",
    "    \n",
    "else:\n",
    "    print (\"Number is odd\")"
   ]
  },
  {
   "cell_type": "code",
   "execution_count": 3,
   "metadata": {},
   "outputs": [
    {
     "name": "stdout",
     "output_type": "stream",
     "text": [
      "4\n"
     ]
    }
   ],
   "source": [
    "Lists = [\"hello\",\"yo\",\"Jacob\",999,]\n",
    "print (len(Lists))"
   ]
  },
  {
   "cell_type": "code",
   "execution_count": 4,
   "metadata": {},
   "outputs": [
    {
     "name": "stdout",
     "output_type": "stream",
     "text": [
      "Sum of all elements in given list:  1358\n"
     ]
    }
   ],
   "source": [
    "list = [79,34,45,56,67,78,999,]\n",
    "\n",
    "total = 0\n",
    "for ele in range(0, len(list)): \n",
    "    total = total + list[ele] \n",
    "  \n",
    "\n",
    "print(\"Sum of all elements in given list: \", total) "
   ]
  },
  {
   "cell_type": "code",
   "execution_count": 5,
   "metadata": {},
   "outputs": [
    {
     "name": "stdout",
     "output_type": "stream",
     "text": [
      "1\n",
      "1\n",
      "2\n",
      "3\n"
     ]
    }
   ],
   "source": [
    "list = [1,1,2,3,5,8,13,21,34,55,89,]\n",
    "\n",
    "total = 0\n",
    "for ele in range(0, len(list)): \n",
    "    if list[ele] <5:\n",
    "        print (list[ele])\n",
    "        "
   ]
  },
  {
   "cell_type": "code",
   "execution_count": 17,
   "metadata": {},
   "outputs": [
    {
     "ename": "TypeError",
     "evalue": "'float' object is not callable",
     "output_type": "error",
     "traceback": [
      "\u001b[1;31m---------------------------------------------------------------------------\u001b[0m",
      "\u001b[1;31mTypeError\u001b[0m                                 Traceback (most recent call last)",
      "\u001b[1;32m<ipython-input-17-3c887c4ef9a4>\u001b[0m in \u001b[0;36m<module>\u001b[1;34m\u001b[0m\n\u001b[0;32m      1\u001b[0m \u001b[0marray\u001b[0m \u001b[1;33m=\u001b[0m \u001b[1;33m[\u001b[0m\u001b[1;36m2\u001b[0m\u001b[1;33m,\u001b[0m\u001b[1;36m1\u001b[0m\u001b[1;33m,\u001b[0m\u001b[1;36m2\u001b[0m\u001b[1;33m,\u001b[0m\u001b[1;36m3\u001b[0m\u001b[1;33m,\u001b[0m\u001b[1;36m2\u001b[0m\u001b[1;33m]\u001b[0m\u001b[1;33m\u001b[0m\u001b[1;33m\u001b[0m\u001b[0m\n\u001b[0;32m      2\u001b[0m \u001b[1;33m\u001b[0m\u001b[0m\n\u001b[1;32m----> 3\u001b[1;33m \u001b[0mprint\u001b[0m \u001b[1;33m(\u001b[0m\u001b[1;34m\"Adding all elements in list: \"\u001b[0m\u001b[1;33m,\u001b[0m \u001b[0msum\u001b[0m\u001b[1;33m(\u001b[0m\u001b[0marray\u001b[0m\u001b[1;33m)\u001b[0m\u001b[1;33m)\u001b[0m\u001b[1;33m\u001b[0m\u001b[1;33m\u001b[0m\u001b[0m\n\u001b[0m",
      "\u001b[1;31mTypeError\u001b[0m: 'float' object is not callable"
     ]
    }
   ],
   "source": [
    "array = [2,1,2,3,2]\n",
    "\n",
    "print (\"Adding all elements in list: \", sum(array))     \n",
    "#Need explainantion on this error it is only occuring in this file"
   ]
  },
  {
   "cell_type": "code",
   "execution_count": null,
   "metadata": {},
   "outputs": [],
   "source": []
  }
 ],
 "metadata": {
  "kernelspec": {
   "display_name": "Python 3",
   "language": "python",
   "name": "python3"
  },
  "language_info": {
   "codemirror_mode": {
    "name": "ipython",
    "version": 3
   },
   "file_extension": ".py",
   "mimetype": "text/x-python",
   "name": "python",
   "nbconvert_exporter": "python",
   "pygments_lexer": "ipython3",
   "version": "3.7.4"
  }
 },
 "nbformat": 4,
 "nbformat_minor": 2
}
