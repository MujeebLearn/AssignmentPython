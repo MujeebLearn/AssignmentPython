{
 "cells": [
  {
   "cell_type": "code",
   "execution_count": 1,
   "metadata": {},
   "outputs": [
    {
     "name": "stdout",
     "output_type": "stream",
     "text": [
      "Input your first name: Syed Mujeeb \n",
      "Input your last name: Ul Hasan\n",
      "hello Ul Hasan Syed Mujeeb \n"
     ]
    }
   ],
   "source": [
    "firstname = input(\"Input your first name: \")\n",
    "Lastname = input(\"Input your last name: \")\n",
    "print (\"hello \" + Lastname + \" \" + firstname) "
   ]
  },
  {
   "cell_type": "code",
   "execution_count": 2,
   "metadata": {},
   "outputs": [
    {
     "name": "stdout",
     "output_type": "stream",
     "text": [
      "Twinkle, twinkle, little star,\n",
      "        How I wonder what you are! \n",
      "              Up above the world so high,\n",
      "              Like a diamond in the sky.\n",
      "\n",
      "Twinkle, twinkle, little star,\n",
      "       How I wonder what you are \n"
     ]
    }
   ],
   "source": [
    "print (\"Twinkle, twinkle, little star,\")\n",
    "print(\"        How I wonder what you are! \")\n",
    "print(\"              Up above the world so high,\")\n",
    "print(\"              Like a diamond in the sky.\\n\")\n",
    "\n",
    "print(\"Twinkle, twinkle, little star,\")\n",
    "print(\"       How I wonder what you are \")"
   ]
  },
  {
   "cell_type": "code",
   "execution_count": 3,
   "metadata": {},
   "outputs": [
    {
     "name": "stdout",
     "output_type": "stream",
     "text": [
      "python version\n",
      "3.7.4 (default, Aug  9 2019, 18:34:13) [MSC v.1915 64 bit (AMD64)]\n",
      "python Information\n",
      "sys.version_info(major=3, minor=7, micro=4, releaselevel='final', serial=0)\n"
     ]
    }
   ],
   "source": [
    "import sys\n",
    "print (\"python version\")\n",
    "print (sys.version)\n",
    "print (\"python Information\")\n",
    "print (sys.version_info)"
   ]
  },
  {
   "cell_type": "code",
   "execution_count": 4,
   "metadata": {},
   "outputs": [
    {
     "name": "stdout",
     "output_type": "stream",
     "text": [
      "Today's date: 2019-11-05\n"
     ]
    }
   ],
   "source": [
    "from datetime import date\n",
    "today = date.today()\n",
    "print (\"Today's date:\", today)"
   ]
  },
  {
   "cell_type": "code",
   "execution_count": 5,
   "metadata": {},
   "outputs": [
    {
     "name": "stdout",
     "output_type": "stream",
     "text": [
      "input the radius of the circle: 7\n",
      "The area of the circle with radius 7.0 is: 153.93804002589985\n"
     ]
    }
   ],
   "source": [
    "from math import pi\n",
    "r = float(input(\"input the radius of the circle: \"))\n",
    "print (\"The area of the circle with radius \" + str(r) + \" is: \" + str(pi*r**2 ))"
   ]
  },
  {
   "cell_type": "code",
   "execution_count": 6,
   "metadata": {},
   "outputs": [
    {
     "name": "stdout",
     "output_type": "stream",
     "text": [
      "enter the first number: 2\n",
      "enter the second number: 3\n",
      "sum of two number is:  5\n"
     ]
    }
   ],
   "source": [
    "a = int(input(\"enter the first number: \"))\n",
    "b = int(input(\"enter the second number: \"))\n",
    "sum = a+b\n",
    "print (\"sum of two number is: \" , sum)"
   ]
  },
  {
   "cell_type": "code",
   "execution_count": null,
   "metadata": {},
   "outputs": [],
   "source": []
  }
 ],
 "metadata": {
  "kernelspec": {
   "display_name": "Python 3",
   "language": "python",
   "name": "python3"
  },
  "language_info": {
   "codemirror_mode": {
    "name": "ipython",
    "version": 3
   },
   "file_extension": ".py",
   "mimetype": "text/x-python",
   "name": "python",
   "nbconvert_exporter": "python",
   "pygments_lexer": "ipython3",
   "version": "3.7.4"
  }
 },
 "nbformat": 4,
 "nbformat_minor": 2
}
