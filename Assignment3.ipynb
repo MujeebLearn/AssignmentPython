{
 "cells": [
  {
   "cell_type": "code",
   "execution_count": 11,
   "metadata": {},
   "outputs": [
    {
     "name": "stdout",
     "output_type": "stream",
     "text": [
      "enter first number : 2\n",
      "enter second number : 2\n",
      "enter operator\n",
      "+\n",
      "-\n",
      "*\n",
      "/\n",
      "+\n",
      "ans is :  4\n"
     ]
    }
   ],
   "source": [
    "val1=int(input(\"enter first number : \"))\n",
    "val2=int(input(\"enter second number : \"))\n",
    "operator=input(\"enter operator\\n+\\n-\\n*\\n/\\n\")\n",
    "if operator == '+' :\n",
    " val = val1 + val2\n",
    " print('ans is : ',val)\n",
    "elif operator == '-' :\n",
    " val = val1 - val2\n",
    " print('ans is : ',val)\n",
    "elif operator == '*' :\n",
    " val = val1 * val2\n",
    " print('ans is : ',val)\n",
    "elif operator == '/' :\n",
    " val = val1 / val2\n",
    " print('ans is : ',val)\n",
    "else:\n",
    "    print('enter correct operator')"
   ]
  },
  {
   "cell_type": "code",
   "execution_count": 5,
   "metadata": {},
   "outputs": [
    {
     "name": "stdout",
     "output_type": "stream",
     "text": [
      "22 it is the numeric value\n",
      "54 it is the numeric value\n"
     ]
    }
   ],
   "source": [
    "arr=[22,\"Mujeeb\",54,\"Amin\"]\n",
    "for i in arr:\n",
    "    if type(i) == int:\n",
    "        print(i,\"it is the numeric value\")"
   ]
  },
  {
   "cell_type": "code",
   "execution_count": 7,
   "metadata": {},
   "outputs": [
    {
     "name": "stdout",
     "output_type": "stream",
     "text": [
      "{'first name': 'Mujeeb', 'last name': 'Hasan', 'address': 'B 281/13', 'age': 32}\n"
     ]
    }
   ],
   "source": [
    "dic={\n",
    "    \"first name\":\"Mujeeb\",\n",
    "    \"last name\":\"Hasan\",\n",
    "    \"address\":\"B 281/13\"\n",
    "    \n",
    "} \n",
    "dic[\"age\"]=32\n",
    "print(dic)"
   ]
  },
  {
   "cell_type": "code",
   "execution_count": 8,
   "metadata": {},
   "outputs": [
    {
     "name": "stdout",
     "output_type": "stream",
     "text": [
      "26\n"
     ]
    }
   ],
   "source": [
    "things_to_remember = {\n",
    "       1: \"the lowest number\",\n",
    "       \"a dozen\": 12, \n",
    "       \"snake eyes\": \"a pair of ones\", \n",
    "       13: \"a baker's dozen\", \n",
    "    } \n",
    "sum = 0\n",
    "for k in things_to_remember.keys():\n",
    "    if type(k)== int:\n",
    "        sum+=k\n",
    "\n",
    "for v in things_to_remember.values():\n",
    "    \n",
    "    if type(v)==int:\n",
    "        sum+=v\n",
    "print(sum)"
   ]
  },
  {
   "cell_type": "code",
   "execution_count": 9,
   "metadata": {},
   "outputs": [
    {
     "name": "stdout",
     "output_type": "stream",
     "text": [
      "32 is duplicate\n",
      "azad is duplicate\n"
     ]
    }
   ],
   "source": [
    "identi=[\"Mujeeb\",32,\"ali\",54,\"mazz\",33,32,\"azad\",\"azad\"]\n",
    "dup=[]\n",
    "for i in identi:\n",
    "    for j in dup:\n",
    "        if (i==j):\n",
    "            print(i,\"is duplicate\")\n",
    "    dup.append(i)"
   ]
  },
  {
   "cell_type": "code",
   "execution_count": 10,
   "metadata": {},
   "outputs": [
    {
     "name": "stdout",
     "output_type": "stream",
     "text": [
      "enter key to check : 4568\n",
      "given key does not exist\n",
      "given key does not exist\n",
      "given key does not exist\n",
      "given key does not exist\n",
      "given key does not exist\n"
     ]
    }
   ],
   "source": [
    "things_to_remember = {\n",
    "       \"num\": \"the lowest number\",\n",
    "       \"dozen\": 12, \n",
    "       \"snake\": \"a pair of ones\", \n",
    "       \"a baker's dozen\":13,\n",
    "       \"age\":30,\n",
    "    } \n",
    "check=input(\"enter key to check : \")\n",
    "for i in things_to_remember.keys():\n",
    "    if (i==check):\n",
    "        print(\"given key exist\")\n",
    "        break;\n",
    "    else:\n",
    "        print(\"given key does not exist\")"
   ]
  },
  {
   "cell_type": "code",
   "execution_count": null,
   "metadata": {},
   "outputs": [],
   "source": []
  }
 ],
 "metadata": {
  "kernelspec": {
   "display_name": "Python 3",
   "language": "python",
   "name": "python3"
  },
  "language_info": {
   "codemirror_mode": {
    "name": "ipython",
    "version": 3
   },
   "file_extension": ".py",
   "mimetype": "text/x-python",
   "name": "python",
   "nbconvert_exporter": "python",
   "pygments_lexer": "ipython3",
   "version": "3.7.4"
  }
 },
 "nbformat": 4,
 "nbformat_minor": 2
}
